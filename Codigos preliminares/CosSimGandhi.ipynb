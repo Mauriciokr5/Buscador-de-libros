{
  "nbformat": 4,
  "nbformat_minor": 0,
  "metadata": {
    "colab": {
      "provenance": []
    },
    "kernelspec": {
      "name": "python3",
      "display_name": "Python 3"
    },
    "language_info": {
      "name": "python"
    }
  },
  "cells": [
    {
      "cell_type": "markdown",
      "source": [
        "# Generación de Embeddings y prueba de similitud coseno"
      ],
      "metadata": {
        "id": "eFzE8ofDiemn"
      }
    },
    {
      "cell_type": "markdown",
      "source": [
        "## Importación de librerías"
      ],
      "metadata": {
        "id": "43LnToMmivJe"
      }
    },
    {
      "cell_type": "code",
      "source": [
        "!pip install sentence-transformers"
      ],
      "metadata": {
        "id": "iEyhLJJzZlvp"
      },
      "execution_count": null,
      "outputs": []
    },
    {
      "cell_type": "code",
      "source": [
        "import sys\n",
        "import json\n",
        "import pandas as pd\n",
        "from sentence_transformers import SentenceTransformer, util"
      ],
      "metadata": {
        "id": "49Hi5YKvTBTu"
      },
      "execution_count": null,
      "outputs": []
    },
    {
      "cell_type": "code",
      "source": [
        "from google.colab import drive\n",
        "drive.mount('/content/drive')"
      ],
      "metadata": {
        "id": "uEI4iBZQXtvx"
      },
      "execution_count": null,
      "outputs": []
    },
    {
      "cell_type": "markdown",
      "source": [
        "## Ajustables"
      ],
      "metadata": {
        "id": "G2M4En2Di0Q2"
      }
    },
    {
      "cell_type": "code",
      "source": [
        "ruta_libros_limpiado = '/content/drive/MyDrive/ESCOM/8vo Semestre/NLP/librosLimpiado.csv'\n",
        "ruta_libros_tm_e = '/content/drive/MyDrive/ESCOM/8vo Semestre/NLP/librosTopicEmbeddings.csv'\n",
        "ruta_libros_topic_modeling = '/content/drive/MyDrive/ESCOM/8vo Semestre/NLP/librosTopic.csv'"
      ],
      "metadata": {
        "id": "I77qxLl_XxA9"
      },
      "execution_count": null,
      "outputs": []
    },
    {
      "cell_type": "markdown",
      "source": [
        "## Generacion y almacenamiento de embedding"
      ],
      "metadata": {
        "id": "ZlKuHBRBi5K5"
      }
    },
    {
      "cell_type": "code",
      "source": [
        "model = SentenceTransformer('paraphrase-multilingual-mpnet-base-v2')\n",
        "sentences2 = libros['Normalización']\n",
        "embeddings2 = model.encode(sentences2, convert_to_tensor=True)\n",
        "libros['Embeddings'] = [embedding.tolist() for embedding in embeddings2]\n",
        "libros.to_csv(ruta_libros_tm_e, index=False)"
      ],
      "metadata": {
        "id": "z265RYgEjEmc"
      },
      "execution_count": null,
      "outputs": []
    },
    {
      "cell_type": "markdown",
      "source": [
        "## Similitud coseno con embeddings"
      ],
      "metadata": {
        "id": "9xVup8B5jY5L"
      }
    },
    {
      "cell_type": "code",
      "execution_count": null,
      "metadata": {
        "id": "Pq9vrBtoShgo"
      },
      "outputs": [],
      "source": [
        "consulta = \"la llegada de cthulhu\"\n",
        "\n",
        "model = SentenceTransformer('paraphrase-multilingual-mpnet-base-v2')\n",
        "\n",
        "\n",
        "libros = pd.read_csv(ruta_libros_topic_modeling)\n",
        "\n",
        "sentences1 = [consulta]  # Usa la consulta aquí\n",
        "sentences2 = libros['Normalización']\n",
        "\n",
        "embeddings1 = model.encode(sentences1, convert_to_tensor=True)\n",
        "embeddings2 = model.encode(sentences2, convert_to_tensor=True)\n",
        "\n",
        "\n",
        "cosine_scores = util.cos_sim(embeddings1, embeddings2)\n",
        "\n",
        "libros['Similitud_Coseno'] = cosine_scores[0].cpu().tolist()\n",
        "\n",
        "top_5_mas_cercanos = libros.sort_values('Similitud_Coseno', ascending=False).head(5)\n",
        "top_5_mas_cercanos"
      ]
    }
  ]
}